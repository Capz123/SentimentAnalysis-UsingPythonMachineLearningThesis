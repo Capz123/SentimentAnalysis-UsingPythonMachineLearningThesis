{
 "cells": [
  {
   "cell_type": "markdown",
   "id": "d952da39",
   "metadata": {},
   "source": [
    "# Libraries"
   ]
  },
  {
   "cell_type": "code",
   "execution_count": 1,
   "id": "4a55a030",
   "metadata": {
    "collapsed": true
   },
   "outputs": [
    {
     "name": "stdout",
     "output_type": "stream",
     "text": [
      "Requirement already satisfied: textblob in c:\\users\\tempo_capuz\\anaconda3\\lib\\site-packages (0.17.1)\n",
      "Requirement already satisfied: nltk>=3.1 in c:\\users\\tempo_capuz\\anaconda3\\lib\\site-packages (from textblob) (3.6.5)\n",
      "Requirement already satisfied: click in c:\\users\\tempo_capuz\\anaconda3\\lib\\site-packages (from nltk>=3.1->textblob) (8.0.3)\n",
      "Requirement already satisfied: joblib in c:\\users\\tempo_capuz\\anaconda3\\lib\\site-packages (from nltk>=3.1->textblob) (1.1.0)\n",
      "Requirement already satisfied: regex>=2021.8.3 in c:\\users\\tempo_capuz\\anaconda3\\lib\\site-packages (from nltk>=3.1->textblob) (2021.8.3)\n",
      "Requirement already satisfied: tqdm in c:\\users\\tempo_capuz\\anaconda3\\lib\\site-packages (from nltk>=3.1->textblob) (4.62.3)\n",
      "Requirement already satisfied: colorama in c:\\users\\tempo_capuz\\anaconda3\\lib\\site-packages (from click->nltk>=3.1->textblob) (0.4.4)\n",
      "Finished.\n"
     ]
    },
    {
     "name": "stderr",
     "output_type": "stream",
     "text": [
      "[nltk_data] Downloading package brown to\n",
      "[nltk_data]     C:\\Users\\tempo_capuz\\AppData\\Roaming\\nltk_data...\n",
      "[nltk_data]   Package brown is already up-to-date!\n",
      "[nltk_data] Downloading package punkt to\n",
      "[nltk_data]     C:\\Users\\tempo_capuz\\AppData\\Roaming\\nltk_data...\n",
      "[nltk_data]   Package punkt is already up-to-date!\n",
      "[nltk_data] Downloading package wordnet to\n",
      "[nltk_data]     C:\\Users\\tempo_capuz\\AppData\\Roaming\\nltk_data...\n",
      "[nltk_data]   Package wordnet is already up-to-date!\n",
      "[nltk_data] Downloading package averaged_perceptron_tagger to\n",
      "[nltk_data]     C:\\Users\\tempo_capuz\\AppData\\Roaming\\nltk_data...\n",
      "[nltk_data]   Package averaged_perceptron_tagger is already up-to-\n",
      "[nltk_data]       date!\n",
      "[nltk_data] Downloading package conll2000 to\n",
      "[nltk_data]     C:\\Users\\tempo_capuz\\AppData\\Roaming\\nltk_data...\n",
      "[nltk_data]   Package conll2000 is already up-to-date!\n",
      "[nltk_data] Downloading package movie_reviews to\n",
      "[nltk_data]     C:\\Users\\tempo_capuz\\AppData\\Roaming\\nltk_data...\n",
      "[nltk_data]   Package movie_reviews is already up-to-date!\n"
     ]
    },
    {
     "name": "stdout",
     "output_type": "stream",
     "text": [
      "Requirement already satisfied: wordcloud in c:\\users\\tempo_capuz\\anaconda3\\lib\\site-packages (1.8.1)\n",
      "Requirement already satisfied: matplotlib in c:\\users\\tempo_capuz\\anaconda3\\lib\\site-packages (from wordcloud) (3.4.3)\n",
      "Requirement already satisfied: pillow in c:\\users\\tempo_capuz\\anaconda3\\lib\\site-packages (from wordcloud) (8.4.0)\n",
      "Requirement already satisfied: numpy>=1.6.1 in c:\\users\\tempo_capuz\\anaconda3\\lib\\site-packages (from wordcloud) (1.20.3)\n",
      "Requirement already satisfied: pyparsing>=2.2.1 in c:\\users\\tempo_capuz\\anaconda3\\lib\\site-packages (from matplotlib->wordcloud) (3.0.4)\n",
      "Requirement already satisfied: cycler>=0.10 in c:\\users\\tempo_capuz\\anaconda3\\lib\\site-packages (from matplotlib->wordcloud) (0.10.0)\n",
      "Requirement already satisfied: kiwisolver>=1.0.1 in c:\\users\\tempo_capuz\\anaconda3\\lib\\site-packages (from matplotlib->wordcloud) (1.3.1)\n",
      "Requirement already satisfied: python-dateutil>=2.7 in c:\\users\\tempo_capuz\\anaconda3\\lib\\site-packages (from matplotlib->wordcloud) (2.8.2)\n",
      "Requirement already satisfied: six in c:\\users\\tempo_capuz\\anaconda3\\lib\\site-packages (from cycler>=0.10->matplotlib->wordcloud) (1.16.0)\n"
     ]
    }
   ],
   "source": [
    "!pip install -U textblob\n",
    "!python -m textblob.download_corpora\n",
    "!pip install wordcloud"
   ]
  },
  {
   "cell_type": "code",
   "execution_count": 2,
   "id": "3b68a4f5",
   "metadata": {},
   "outputs": [],
   "source": [
    "import pandas as pd\n",
    "import numpy as np\n",
    "import re\n",
    "import seaborn as sns\n",
    "import matplotlib.pyplot as plt\n",
    "from matplotlib import style\n",
    "style.use('ggplot')\n",
    "from textblob import TextBlob\n",
    "from wordcloud import WordCloud\n",
    "from sklearn.feature_extraction.text import CountVectorizer\n",
    "from sklearn.model_selection import train_test_split\n",
    "from sklearn.linear_model import LogisticRegression\n",
    "from sklearn.naive_bayes import MultinomialNB\n",
    "from sklearn.metrics import accuracy_score, classification_report, confusion_matrix, ConfusionMatrixDisplay"
   ]
  },
  {
   "cell_type": "markdown",
   "id": "ec73fabe",
   "metadata": {},
   "source": [
    "# Imbalanced Dataset Execution"
   ]
  },
  {
   "cell_type": "code",
   "execution_count": 3,
   "id": "09c549ee",
   "metadata": {},
   "outputs": [],
   "source": [
    "filename = ('CleanedDataset.xlsx')"
   ]
  },
  {
   "cell_type": "code",
   "execution_count": 4,
   "id": "a4425e27",
   "metadata": {},
   "outputs": [],
   "source": [
    "df = pd.read_excel(filename)"
   ]
  },
  {
   "cell_type": "code",
   "execution_count": 5,
   "id": "50e4b2d2",
   "metadata": {},
   "outputs": [
    {
     "data": {
      "text/html": [
       "<div>\n",
       "<style scoped>\n",
       "    .dataframe tbody tr th:only-of-type {\n",
       "        vertical-align: middle;\n",
       "    }\n",
       "\n",
       "    .dataframe tbody tr th {\n",
       "        vertical-align: top;\n",
       "    }\n",
       "\n",
       "    .dataframe thead th {\n",
       "        text-align: right;\n",
       "    }\n",
       "</style>\n",
       "<table border=\"1\" class=\"dataframe\">\n",
       "  <thead>\n",
       "    <tr style=\"text-align: right;\">\n",
       "      <th></th>\n",
       "      <th>clean_text</th>\n",
       "      <th>Score</th>\n",
       "      <th>Sentiment</th>\n",
       "    </tr>\n",
       "  </thead>\n",
       "  <tbody>\n",
       "    <tr>\n",
       "      <th>0</th>\n",
       "      <td>sir llavore nice instructor manages time well ...</td>\n",
       "      <td>0.743590</td>\n",
       "      <td>positive</td>\n",
       "    </tr>\n",
       "    <tr>\n",
       "      <th>1</th>\n",
       "      <td>explain well teaches us</td>\n",
       "      <td>0.282051</td>\n",
       "      <td>positive</td>\n",
       "    </tr>\n",
       "    <tr>\n",
       "      <th>2</th>\n",
       "      <td>responsible faculty member</td>\n",
       "      <td>0.333333</td>\n",
       "      <td>positive</td>\n",
       "    </tr>\n",
       "    <tr>\n",
       "      <th>3</th>\n",
       "      <td>excellent</td>\n",
       "      <td>0.692308</td>\n",
       "      <td>positive</td>\n",
       "    </tr>\n",
       "    <tr>\n",
       "      <th>4</th>\n",
       "      <td>great job meeting student needs class like inq...</td>\n",
       "      <td>2.384615</td>\n",
       "      <td>positive</td>\n",
       "    </tr>\n",
       "    <tr>\n",
       "      <th>5</th>\n",
       "      <td>good performance</td>\n",
       "      <td>0.487179</td>\n",
       "      <td>positive</td>\n",
       "    </tr>\n",
       "    <tr>\n",
       "      <th>6</th>\n",
       "      <td>gratitude instructor done us never forget</td>\n",
       "      <td>0.358974</td>\n",
       "      <td>positive</td>\n",
       "    </tr>\n",
       "    <tr>\n",
       "      <th>7</th>\n",
       "      <td>responsive regarding concerns student</td>\n",
       "      <td>0.384615</td>\n",
       "      <td>positive</td>\n",
       "    </tr>\n",
       "    <tr>\n",
       "      <th>8</th>\n",
       "      <td>teachers give many activities dont meet us gclass</td>\n",
       "      <td>0.000000</td>\n",
       "      <td>neutral</td>\n",
       "    </tr>\n",
       "    <tr>\n",
       "      <th>9</th>\n",
       "      <td>discussions informative</td>\n",
       "      <td>0.000000</td>\n",
       "      <td>neutral</td>\n",
       "    </tr>\n",
       "    <tr>\n",
       "      <th>10</th>\n",
       "      <td>clearly expelling easy enter brain dying topic</td>\n",
       "      <td>0.512821</td>\n",
       "      <td>positive</td>\n",
       "    </tr>\n",
       "    <tr>\n",
       "      <th>11</th>\n",
       "      <td>salute efforts god job</td>\n",
       "      <td>0.282051</td>\n",
       "      <td>positive</td>\n",
       "    </tr>\n",
       "    <tr>\n",
       "      <th>12</th>\n",
       "      <td>f2f lack equipments retdems thank</td>\n",
       "      <td>0.051282</td>\n",
       "      <td>positive</td>\n",
       "    </tr>\n",
       "    <tr>\n",
       "      <th>13</th>\n",
       "      <td>discussion clearly expunging easy enter brain</td>\n",
       "      <td>0.923077</td>\n",
       "      <td>positive</td>\n",
       "    </tr>\n",
       "    <tr>\n",
       "      <th>14</th>\n",
       "      <td>ducusin po active instructor question answerin...</td>\n",
       "      <td>0.051282</td>\n",
       "      <td>positive</td>\n",
       "    </tr>\n",
       "    <tr>\n",
       "      <th>15</th>\n",
       "      <td>considerate ashtma respiratory illnesses assig...</td>\n",
       "      <td>0.230769</td>\n",
       "      <td>positive</td>\n",
       "    </tr>\n",
       "    <tr>\n",
       "      <th>16</th>\n",
       "      <td>understands important mental stability health ...</td>\n",
       "      <td>0.589744</td>\n",
       "      <td>positive</td>\n",
       "    </tr>\n",
       "    <tr>\n",
       "      <th>17</th>\n",
       "      <td>please discuss</td>\n",
       "      <td>0.333333</td>\n",
       "      <td>positive</td>\n",
       "    </tr>\n",
       "    <tr>\n",
       "      <th>18</th>\n",
       "      <td>talk lesson detail</td>\n",
       "      <td>0.000000</td>\n",
       "      <td>neutral</td>\n",
       "    </tr>\n",
       "    <tr>\n",
       "      <th>19</th>\n",
       "      <td>students understand discussion 4 lesson one si...</td>\n",
       "      <td>0.666667</td>\n",
       "      <td>positive</td>\n",
       "    </tr>\n",
       "  </tbody>\n",
       "</table>\n",
       "</div>"
      ],
      "text/plain": [
       "                                           clean_text     Score Sentiment\n",
       "0   sir llavore nice instructor manages time well ...  0.743590  positive\n",
       "1                             explain well teaches us  0.282051  positive\n",
       "2                          responsible faculty member  0.333333  positive\n",
       "3                                           excellent  0.692308  positive\n",
       "4   great job meeting student needs class like inq...  2.384615  positive\n",
       "5                                    good performance  0.487179  positive\n",
       "6           gratitude instructor done us never forget  0.358974  positive\n",
       "7               responsive regarding concerns student  0.384615  positive\n",
       "8   teachers give many activities dont meet us gclass  0.000000   neutral\n",
       "9                             discussions informative  0.000000   neutral\n",
       "10     clearly expelling easy enter brain dying topic  0.512821  positive\n",
       "11                             salute efforts god job  0.282051  positive\n",
       "12                  f2f lack equipments retdems thank  0.051282  positive\n",
       "13      discussion clearly expunging easy enter brain  0.923077  positive\n",
       "14  ducusin po active instructor question answerin...  0.051282  positive\n",
       "15  considerate ashtma respiratory illnesses assig...  0.230769  positive\n",
       "16  understands important mental stability health ...  0.589744  positive\n",
       "17                                     please discuss  0.333333  positive\n",
       "18                                 talk lesson detail  0.000000   neutral\n",
       "19  students understand discussion 4 lesson one si...  0.666667  positive"
      ]
     },
     "execution_count": 5,
     "metadata": {},
     "output_type": "execute_result"
    }
   ],
   "source": [
    "df.head(20)"
   ]
  },
  {
   "cell_type": "markdown",
   "id": "da544b4b",
   "metadata": {},
   "source": [
    "# Check columns and info"
   ]
  },
  {
   "cell_type": "code",
   "execution_count": 6,
   "id": "03586ace",
   "metadata": {},
   "outputs": [
    {
     "data": {
      "text/plain": [
       "Index(['clean_text', 'Score', 'Sentiment'], dtype='object')"
      ]
     },
     "execution_count": 6,
     "metadata": {},
     "output_type": "execute_result"
    }
   ],
   "source": [
    "df.columns"
   ]
  },
  {
   "cell_type": "code",
   "execution_count": 9,
   "id": "f05375c2",
   "metadata": {},
   "outputs": [
    {
     "data": {
      "text/plain": [
       "<bound method DataFrame.info of                                              clean_text     Score Sentiment\n",
       "0     sir llavore nice instructor manages time well ...  0.743590  positive\n",
       "1                               explain well teaches us  0.282051  positive\n",
       "2                            responsible faculty member  0.333333  positive\n",
       "3                                             excellent  0.692308  positive\n",
       "4     great job meeting student needs class like inq...  2.384615  positive\n",
       "...                                                 ...       ...       ...\n",
       "8858  practice compassionate considerate understandi...  1.051282  positive\n",
       "8859                           keep po thank concern us -0.282051  negative\n",
       "8860  admire lot puts lot effort comes checking subm...  1.435897  positive\n",
       "8861                             sir thank good teacher  0.871795  positive\n",
       "8862                   thank good teacher understanding  0.871795  positive\n",
       "\n",
       "[8863 rows x 3 columns]>"
      ]
     },
     "execution_count": 9,
     "metadata": {},
     "output_type": "execute_result"
    }
   ],
   "source": [
    "df.info"
   ]
  },
  {
   "cell_type": "markdown",
   "id": "eaba87fd",
   "metadata": {},
   "source": [
    "# Percentage presentation"
   ]
  },
  {
   "cell_type": "code",
   "execution_count": 7,
   "id": "78e93fa3",
   "metadata": {},
   "outputs": [
    {
     "data": {
      "text/plain": [
       "<AxesSubplot:xlabel='Sentiment', ylabel='count'>"
      ]
     },
     "execution_count": 7,
     "metadata": {},
     "output_type": "execute_result"
    },
    {
     "data": {
      "image/png": "[encoded data removed]",
      "text/plain": [
       "<Figure size 360x360 with 1 Axes>"
      ]
     },
     "metadata": {},
     "output_type": "display_data"
    }
   ],
   "source": [
    "fig = plt.figure(figsize=(5,5))\n",
    "sns.countplot(x='Sentiment', data = df)"
   ]
  },
  {
   "cell_type": "code",
   "execution_count": 8,
   "id": "3b382dfe",
   "metadata": {},
   "outputs": [
    {
     "data": {
      "text/plain": [
       "Text(0.5, 1.0, 'Distribution of sentiments')"
      ]
     },
     "execution_count": 8,
     "metadata": {},
     "output_type": "execute_result"
    },
    {
     "data": {
      "image/png": "[encoded data removed]",
      "text/plain": [
       "<Figure size 504x504 with 1 Axes>"
      ]
     },
     "metadata": {},
     "output_type": "display_data"
    }
   ],
   "source": [
    "fig = plt.figure(figsize=(7,7))\n",
    "colors = (\"yellowgreen\", \"gold\", \"red\")\n",
    "wp = {'linewidth':2, 'edgecolor':\"black\"}\n",
    "tags = df['Sentiment'].value_counts()\n",
    "explode = (0.1,0.1,0.1)\n",
    "tags.plot(kind='pie', autopct='%1.1f%%', shadow=True, colors = colors,\n",
    "         startangle=90, wedgeprops = wp, explode = explode, label='')\n",
    "plt.title('Distribution of sentiments')"
   ]
  },
  {
   "cell_type": "code",
   "execution_count": 10,
   "id": "7ff2abe4",
   "metadata": {},
   "outputs": [
    {
     "data": {
      "text/html": [
       "<div>\n",
       "<style scoped>\n",
       "    .dataframe tbody tr th:only-of-type {\n",
       "        vertical-align: middle;\n",
       "    }\n",
       "\n",
       "    .dataframe tbody tr th {\n",
       "        vertical-align: top;\n",
       "    }\n",
       "\n",
       "    .dataframe thead th {\n",
       "        text-align: right;\n",
       "    }\n",
       "</style>\n",
       "<table border=\"1\" class=\"dataframe\">\n",
       "  <thead>\n",
       "    <tr style=\"text-align: right;\">\n",
       "      <th></th>\n",
       "      <th>clean_text</th>\n",
       "      <th>Score</th>\n",
       "      <th>Sentiment</th>\n",
       "    </tr>\n",
       "  </thead>\n",
       "  <tbody>\n",
       "    <tr>\n",
       "      <th>6088</th>\n",
       "      <td>thank excellent educator value time patient ef...</td>\n",
       "      <td>7.666667</td>\n",
       "      <td>positive</td>\n",
       "    </tr>\n",
       "    <tr>\n",
       "      <th>1847</th>\n",
       "      <td>sir ernesto like father feel presence father t...</td>\n",
       "      <td>7.564103</td>\n",
       "      <td>positive</td>\n",
       "    </tr>\n",
       "    <tr>\n",
       "      <th>3368</th>\n",
       "      <td>hello sir thank considerations understanding g...</td>\n",
       "      <td>7.538462</td>\n",
       "      <td>positive</td>\n",
       "    </tr>\n",
       "    <tr>\n",
       "      <th>4478</th>\n",
       "      <td>sir nestor great educator student enjoyed love...</td>\n",
       "      <td>6.666667</td>\n",
       "      <td>positive</td>\n",
       "    </tr>\n",
       "    <tr>\n",
       "      <th>2373</th>\n",
       "      <td>facty members college college college educatio...</td>\n",
       "      <td>6.128205</td>\n",
       "      <td>positive</td>\n",
       "    </tr>\n",
       "    <tr>\n",
       "      <th>1335</th>\n",
       "      <td>really one kindest professors encountered far ...</td>\n",
       "      <td>6.076923</td>\n",
       "      <td>positive</td>\n",
       "    </tr>\n",
       "    <tr>\n",
       "      <th>151</th>\n",
       "      <td>hello sir nice day one students like give grea...</td>\n",
       "      <td>6.025641</td>\n",
       "      <td>positive</td>\n",
       "    </tr>\n",
       "    <tr>\n",
       "      <th>201</th>\n",
       "      <td>appreciate kind considerate approachable also ...</td>\n",
       "      <td>5.769231</td>\n",
       "      <td>positive</td>\n",
       "    </tr>\n",
       "    <tr>\n",
       "      <th>3865</th>\n",
       "      <td>mary jane great educator student enjoy love id...</td>\n",
       "      <td>5.743590</td>\n",
       "      <td>positive</td>\n",
       "    </tr>\n",
       "    <tr>\n",
       "      <th>1730</th>\n",
       "      <td>never failed inspire nursing purpose nursing e...</td>\n",
       "      <td>5.615385</td>\n",
       "      <td>positive</td>\n",
       "    </tr>\n",
       "    <tr>\n",
       "      <th>3488</th>\n",
       "      <td>awesome teacher liked way teaching seems like ...</td>\n",
       "      <td>5.538462</td>\n",
       "      <td>positive</td>\n",
       "    </tr>\n",
       "    <tr>\n",
       "      <th>1814</th>\n",
       "      <td>kind approachable teacher shes passion dedicat...</td>\n",
       "      <td>5.358974</td>\n",
       "      <td>positive</td>\n",
       "    </tr>\n",
       "    <tr>\n",
       "      <th>8098</th>\n",
       "      <td>1 lessons accomplish activities time sometimes...</td>\n",
       "      <td>5.205128</td>\n",
       "      <td>positive</td>\n",
       "    </tr>\n",
       "    <tr>\n",
       "      <th>642</th>\n",
       "      <td>teaching style delightful invigorating kind en...</td>\n",
       "      <td>5.179487</td>\n",
       "      <td>positive</td>\n",
       "    </tr>\n",
       "    <tr>\n",
       "      <th>4554</th>\n",
       "      <td>first would like thank teacher patient teach u...</td>\n",
       "      <td>5.128205</td>\n",
       "      <td>positive</td>\n",
       "    </tr>\n",
       "    <tr>\n",
       "      <th>3882</th>\n",
       "      <td>negative feedback towards towards teacher pers...</td>\n",
       "      <td>5.025641</td>\n",
       "      <td>positive</td>\n",
       "    </tr>\n",
       "    <tr>\n",
       "      <th>8693</th>\n",
       "      <td>dr osillos one best professor ever us feel exc...</td>\n",
       "      <td>5.025641</td>\n",
       "      <td>positive</td>\n",
       "    </tr>\n",
       "    <tr>\n",
       "      <th>8570</th>\n",
       "      <td>china okay professor one class concern lies la...</td>\n",
       "      <td>5.000000</td>\n",
       "      <td>positive</td>\n",
       "    </tr>\n",
       "    <tr>\n",
       "      <th>2848</th>\n",
       "      <td>mr micheal picoc outstanding teacher discuss l...</td>\n",
       "      <td>4.923077</td>\n",
       "      <td>positive</td>\n",
       "    </tr>\n",
       "    <tr>\n",
       "      <th>2427</th>\n",
       "      <td>want say great wonderful aly teach us best enj...</td>\n",
       "      <td>4.923077</td>\n",
       "      <td>positive</td>\n",
       "    </tr>\n",
       "  </tbody>\n",
       "</table>\n",
       "</div>"
      ],
      "text/plain": [
       "                                             clean_text     Score Sentiment\n",
       "6088  thank excellent educator value time patient ef...  7.666667  positive\n",
       "1847  sir ernesto like father feel presence father t...  7.564103  positive\n",
       "3368  hello sir thank considerations understanding g...  7.538462  positive\n",
       "4478  sir nestor great educator student enjoyed love...  6.666667  positive\n",
       "2373  facty members college college college educatio...  6.128205  positive\n",
       "1335  really one kindest professors encountered far ...  6.076923  positive\n",
       "151   hello sir nice day one students like give grea...  6.025641  positive\n",
       "201   appreciate kind considerate approachable also ...  5.769231  positive\n",
       "3865  mary jane great educator student enjoy love id...  5.743590  positive\n",
       "1730  never failed inspire nursing purpose nursing e...  5.615385  positive\n",
       "3488  awesome teacher liked way teaching seems like ...  5.538462  positive\n",
       "1814  kind approachable teacher shes passion dedicat...  5.358974  positive\n",
       "8098  1 lessons accomplish activities time sometimes...  5.205128  positive\n",
       "642   teaching style delightful invigorating kind en...  5.179487  positive\n",
       "4554  first would like thank teacher patient teach u...  5.128205  positive\n",
       "3882  negative feedback towards towards teacher pers...  5.025641  positive\n",
       "8693  dr osillos one best professor ever us feel exc...  5.025641  positive\n",
       "8570  china okay professor one class concern lies la...  5.000000  positive\n",
       "2848  mr micheal picoc outstanding teacher discuss l...  4.923077  positive\n",
       "2427  want say great wonderful aly teach us best enj...  4.923077  positive"
      ]
     },
     "execution_count": 10,
     "metadata": {},
     "output_type": "execute_result"
    }
   ],
   "source": [
    "pos_comms = df[df.Sentiment == 'positive']\n",
    "pos_comms = pos_comms.sort_values(['Score'], ascending= False)\n",
    "pos_comms.head(20)"
   ]
  },
  {
   "cell_type": "code",
   "execution_count": null,
   "id": "9bcc91ae",
   "metadata": {},
   "outputs": [],
   "source": [
    "pos_comms.info"
   ]
  },
  {
   "cell_type": "code",
   "execution_count": null,
   "id": "a43ddca9",
   "metadata": {},
   "outputs": [],
   "source": [
    "text = ' '.join([word for word in pos_comms['clean_text']])\n",
    "plt.figure(figsize=(20,15), facecolor='None')\n",
    "wordcloud = WordCloud(max_words=500, width=1600, height=800).generate(text)\n",
    "plt.imshow(wordcloud, interpolation='bilinear')\n",
    "plt.axis(\"off\")\n",
    "plt.title('Most frequent words in positive comments', fontsize=19)\n",
    "plt.show()"
   ]
  },
  {
   "cell_type": "code",
   "execution_count": null,
   "id": "0ce47e69",
   "metadata": {},
   "outputs": [],
   "source": [
    "neg_comms = df[df.Sentiment == 'negative']\n",
    "neg_comms = neg_comms.sort_values(['Score'], ascending= False)\n",
    "neg_comms.head(20)"
   ]
  },
  {
   "cell_type": "code",
   "execution_count": null,
   "id": "2cda78ea",
   "metadata": {},
   "outputs": [],
   "source": [
    "neg_comms.info"
   ]
  },
  {
   "cell_type": "code",
   "execution_count": null,
   "id": "79ac8086",
   "metadata": {},
   "outputs": [],
   "source": [
    "text = ' '.join([word for word in neg_comms['clean_text']])\n",
    "plt.figure(figsize=(20,15), facecolor='None')\n",
    "wordcloud = WordCloud(max_words=500, width=1600, height=800).generate(text)\n",
    "plt.imshow(wordcloud, interpolation='bilinear')\n",
    "plt.axis(\"off\")\n",
    "plt.title('Most frequent words in negative tweets', fontsize=19)\n",
    "plt.show()"
   ]
  },
  {
   "cell_type": "code",
   "execution_count": null,
   "id": "dfa8e0bd",
   "metadata": {},
   "outputs": [],
   "source": [
    "neutral_comms = df[df.Sentiment == 'neutral']\n",
    "neutral_comms = neutral_comms.sort_values(['Score'], ascending= False)\n",
    "neutral_comms.head(20)\n"
   ]
  },
  {
   "cell_type": "code",
   "execution_count": null,
   "id": "30bf695c",
   "metadata": {},
   "outputs": [],
   "source": [
    "neutral_comms.info"
   ]
  },
  {
   "cell_type": "code",
   "execution_count": null,
   "id": "29ab1511",
   "metadata": {},
   "outputs": [],
   "source": [
    "text = ' '.join([str(word) for word in neutral_comms['clean_text']])\n",
    "plt.figure(figsize=(20,15), facecolor='None')\n",
    "wordcloud = WordCloud(max_words=500, width=1600, height=800).generate(text)\n",
    "plt.imshow(wordcloud, interpolation='bilinear')\n",
    "plt.axis(\"off\")\n",
    "plt.title('Most frequent words in neutral tweets', fontsize=19)\n",
    "plt.show()"
   ]
  },
  {
   "cell_type": "markdown",
   "id": "13115fb1",
   "metadata": {},
   "source": [
    "# For Balance Dataset file execution"
   ]
  },
  {
   "cell_type": "code",
   "execution_count": 200,
   "id": "4257e705",
   "metadata": {},
   "outputs": [],
   "source": [
    "filename = ('NewDataset101.xlsx')"
   ]
  },
  {
   "cell_type": "code",
   "execution_count": 201,
   "id": "98de23b5",
   "metadata": {},
   "outputs": [],
   "source": [
    "new_df = pd.read_excel(filename)"
   ]
  },
  {
   "cell_type": "code",
   "execution_count": 202,
   "id": "289ba3d8",
   "metadata": {},
   "outputs": [
    {
     "data": {
      "text/html": [
       "<div>\n",
       "<style scoped>\n",
       "    .dataframe tbody tr th:only-of-type {\n",
       "        vertical-align: middle;\n",
       "    }\n",
       "\n",
       "    .dataframe tbody tr th {\n",
       "        vertical-align: top;\n",
       "    }\n",
       "\n",
       "    .dataframe thead th {\n",
       "        text-align: right;\n",
       "    }\n",
       "</style>\n",
       "<table border=\"1\" class=\"dataframe\">\n",
       "  <thead>\n",
       "    <tr style=\"text-align: right;\">\n",
       "      <th></th>\n",
       "      <th>clean_text</th>\n",
       "      <th>Sentiment</th>\n",
       "    </tr>\n",
       "  </thead>\n",
       "  <tbody>\n",
       "    <tr>\n",
       "      <th>0</th>\n",
       "      <td>princess considerate understands struggles stu...</td>\n",
       "      <td>negative</td>\n",
       "    </tr>\n",
       "    <tr>\n",
       "      <th>1</th>\n",
       "      <td>ms marquez avoids putting pressure students gi...</td>\n",
       "      <td>negative</td>\n",
       "    </tr>\n",
       "    <tr>\n",
       "      <th>2</th>\n",
       "      <td>make sure time subject gonna wasted also makes...</td>\n",
       "      <td>negative</td>\n",
       "    </tr>\n",
       "    <tr>\n",
       "      <th>3</th>\n",
       "      <td>hello po nice teach understand ones teach keep...</td>\n",
       "      <td>negative</td>\n",
       "    </tr>\n",
       "    <tr>\n",
       "      <th>4</th>\n",
       "      <td>hi po need make kase sinkin student kase po ma...</td>\n",
       "      <td>negative</td>\n",
       "    </tr>\n",
       "  </tbody>\n",
       "</table>\n",
       "</div>"
      ],
      "text/plain": [
       "                                          clean_text Sentiment\n",
       "0  princess considerate understands struggles stu...  negative\n",
       "1  ms marquez avoids putting pressure students gi...  negative\n",
       "2  make sure time subject gonna wasted also makes...  negative\n",
       "3  hello po nice teach understand ones teach keep...  negative\n",
       "4  hi po need make kase sinkin student kase po ma...  negative"
      ]
     },
     "execution_count": 202,
     "metadata": {},
     "output_type": "execute_result"
    }
   ],
   "source": [
    "new_df.head()"
   ]
  },
  {
   "cell_type": "markdown",
   "id": "21fbca0b",
   "metadata": {},
   "source": [
    "# Training and Testing phase"
   ]
  },
  {
   "cell_type": "code",
   "execution_count": 203,
   "id": "b92d22a7",
   "metadata": {},
   "outputs": [],
   "source": [
    "vect = CountVectorizer(ngram_range=(1,2)).fit(new_df['clean_text'].apply(lambda x: np.str_(x)))"
   ]
  },
  {
   "cell_type": "code",
   "execution_count": null,
   "id": "81c22618",
   "metadata": {},
   "outputs": [],
   "source": [
    "#Change var new_df to execute the Imbalanced Dataset -- the file is included in upper Cell"
   ]
  },
  {
   "cell_type": "code",
   "execution_count": 204,
   "id": "31797868",
   "metadata": {},
   "outputs": [
    {
     "name": "stdout",
     "output_type": "stream",
     "text": [
      "Number of features: 16324\n",
      "\n",
      "First 20 features:\n",
      " ['07', '07 sometimes', '10', '10 07', '10 days', '100', '100 words', '11', '11 close', '12', '12 believe', '1st', '1st year', '200', '200 100', '24', '24 deadline', '26', '26 done', '30']\n"
     ]
    }
   ],
   "source": [
    "feature_names = vect.get_feature_names()\n",
    "print(\"Number of features: {}\\n\".format(len(feature_names)))\n",
    "print(\"First 20 features:\\n {}\".format(feature_names[:20]))"
   ]
  },
  {
   "cell_type": "code",
   "execution_count": 212,
   "id": "2252633b",
   "metadata": {},
   "outputs": [],
   "source": [
    "X = new_df['clean_text'].apply(lambda x: np.str_(x))\n",
    "Y = new_df['Sentiment']\n",
    "X = vect.transform(X)"
   ]
  },
  {
   "cell_type": "code",
   "execution_count": 213,
   "id": "8f001001",
   "metadata": {},
   "outputs": [],
   "source": [
    "x_train, x_test, y_train, y_test = train_test_split(X, Y, test_size=0.2, random_state=42)"
   ]
  },
  {
   "cell_type": "code",
   "execution_count": null,
   "id": "f9bc414a",
   "metadata": {},
   "outputs": [],
   "source": [
    "#For Test size, change the test_size var for desired percentage"
   ]
  },
  {
   "cell_type": "code",
   "execution_count": 214,
   "id": "dea937e9",
   "metadata": {},
   "outputs": [
    {
     "name": "stdout",
     "output_type": "stream",
     "text": [
      "Size of x_train: (1656, 16324)\n",
      "Size of y_train: (1656,)\n",
      "Size of x_test: (414, 16324)\n",
      "Size of y_test: (414,)\n"
     ]
    }
   ],
   "source": [
    "print(\"Size of x_train:\", (x_train.shape))\n",
    "print(\"Size of y_train:\", (y_train.shape))\n",
    "print(\"Size of x_test:\", (x_test.shape))\n",
    "print(\"Size of y_test:\", (y_test.shape))"
   ]
  },
  {
   "cell_type": "code",
   "execution_count": null,
   "id": "365015de",
   "metadata": {},
   "outputs": [],
   "source": []
  },
  {
   "cell_type": "code",
   "execution_count": 215,
   "id": "fcee218d",
   "metadata": {},
   "outputs": [],
   "source": [
    "import warnings\n",
    "warnings.filterwarnings('ignore')"
   ]
  },
  {
   "cell_type": "markdown",
   "id": "3466c41a",
   "metadata": {},
   "source": [
    "# Logistic Regression"
   ]
  },
  {
   "cell_type": "code",
   "execution_count": 216,
   "id": "196fc069",
   "metadata": {},
   "outputs": [
    {
     "name": "stdout",
     "output_type": "stream",
     "text": [
      "Test accuracy: 83.33%\n"
     ]
    }
   ],
   "source": [
    "logreg = LogisticRegression()\n",
    "logreg.fit(x_train, y_train)\n",
    "logreg_pred = logreg.predict(x_test)\n",
    "logreg_acc = accuracy_score(logreg_pred, y_test)\n",
    "print(\"Test accuracy: {:.2f}%\".format(logreg_acc*100))"
   ]
  },
  {
   "cell_type": "code",
   "execution_count": 217,
   "id": "43411fe2",
   "metadata": {},
   "outputs": [],
   "source": [
    "log_correct = (y_test == logreg.predict(x_test)).sum()"
   ]
  },
  {
   "cell_type": "code",
   "execution_count": 218,
   "id": "053ff18c",
   "metadata": {},
   "outputs": [
    {
     "name": "stdout",
     "output_type": "stream",
     "text": [
      "345 documents classified correctly\n"
     ]
    }
   ],
   "source": [
    "print(f'{log_correct} documents classified correctly')"
   ]
  },
  {
   "cell_type": "code",
   "execution_count": 219,
   "id": "f418e217",
   "metadata": {},
   "outputs": [],
   "source": [
    "log_incorrect = y_test.size - log_correct"
   ]
  },
  {
   "cell_type": "code",
   "execution_count": 220,
   "id": "c8f939d2",
   "metadata": {},
   "outputs": [
    {
     "name": "stdout",
     "output_type": "stream",
     "text": [
      "69 documents classified incorrectly\n"
     ]
    }
   ],
   "source": [
    "print(f'{log_incorrect} documents classified incorrectly')"
   ]
  },
  {
   "cell_type": "code",
   "execution_count": 221,
   "id": "83e1cd36",
   "metadata": {},
   "outputs": [
    {
     "name": "stdout",
     "output_type": "stream",
     "text": [
      "[[114  21  10]\n",
      " [  1 139   2]\n",
      " [ 10  25  92]]\n",
      "\n",
      "\n",
      "              precision    recall  f1-score   support\n",
      "\n",
      "    negative       0.91      0.79      0.84       145\n",
      "     neutral       0.75      0.98      0.85       142\n",
      "    positive       0.88      0.72      0.80       127\n",
      "\n",
      "    accuracy                           0.83       414\n",
      "   macro avg       0.85      0.83      0.83       414\n",
      "weighted avg       0.85      0.83      0.83       414\n",
      "\n"
     ]
    }
   ],
   "source": [
    "print(confusion_matrix(y_test, logreg_pred))\n",
    "print(\"\\n\")\n",
    "print(classification_report(y_test, logreg_pred))"
   ]
  },
  {
   "cell_type": "code",
   "execution_count": 222,
   "id": "3b0884b7",
   "metadata": {},
   "outputs": [
    {
     "data": {
      "text/plain": [
       "<sklearn.metrics._plot.confusion_matrix.ConfusionMatrixDisplay at 0x2dd7e8dfca0>"
      ]
     },
     "execution_count": 222,
     "metadata": {},
     "output_type": "execute_result"
    },
    {
     "data": {
      "image/png": "[encoded data removed]",
      "text/plain": [
       "<Figure size 640x480 with 2 Axes>"
      ]
     },
     "metadata": {},
     "output_type": "display_data"
    }
   ],
   "source": [
    "style.use('classic')\n",
    "cm = confusion_matrix(y_test, logreg_pred, labels=logreg.classes_)\n",
    "disp = ConfusionMatrixDisplay(confusion_matrix = cm, display_labels=logreg.classes_)\n",
    "disp.plot()"
   ]
  },
  {
   "cell_type": "markdown",
   "id": "9a304f0d",
   "metadata": {},
   "source": [
    "# Naive Bayes"
   ]
  },
  {
   "cell_type": "code",
   "execution_count": 223,
   "id": "aa6fbda9",
   "metadata": {},
   "outputs": [
    {
     "name": "stdout",
     "output_type": "stream",
     "text": [
      "Test accuracy: 72.22%\n"
     ]
    }
   ],
   "source": [
    "nb = MultinomialNB()\n",
    "nb.fit(x_train, y_train)\n",
    "nb_pred = nb.predict(x_test)\n",
    "nb_acc = accuracy_score(nb_pred, y_test)\n",
    "print(\"Test accuracy: {:.2f}%\".format(nb_acc*100))"
   ]
  },
  {
   "cell_type": "code",
   "execution_count": 224,
   "id": "1f120b1e",
   "metadata": {},
   "outputs": [],
   "source": [
    "nb_correct = (y_test == nb.predict(x_test)).sum()"
   ]
  },
  {
   "cell_type": "code",
   "execution_count": 225,
   "id": "50494644",
   "metadata": {},
   "outputs": [
    {
     "name": "stdout",
     "output_type": "stream",
     "text": [
      "299 documents classified correctly\n"
     ]
    }
   ],
   "source": [
    "print(f'{nb_correct} documents classified correctly')"
   ]
  },
  {
   "cell_type": "code",
   "execution_count": 226,
   "id": "6ef27483",
   "metadata": {},
   "outputs": [],
   "source": [
    "nb_incorrect = y_test.size - nb_correct"
   ]
  },
  {
   "cell_type": "code",
   "execution_count": 227,
   "id": "6183f87b",
   "metadata": {},
   "outputs": [
    {
     "name": "stdout",
     "output_type": "stream",
     "text": [
      "115 documents classified incorrectly\n"
     ]
    }
   ],
   "source": [
    "print(f'{nb_incorrect} documents classified incorrectly')"
   ]
  },
  {
   "cell_type": "code",
   "execution_count": 228,
   "id": "755fa28a",
   "metadata": {},
   "outputs": [
    {
     "name": "stdout",
     "output_type": "stream",
     "text": [
      "[[113  17  15]\n",
      " [ 28  88  26]\n",
      " [ 19  10  98]]\n",
      "\n",
      "\n",
      "              precision    recall  f1-score   support\n",
      "\n",
      "    negative       0.71      0.78      0.74       145\n",
      "     neutral       0.77      0.62      0.68       142\n",
      "    positive       0.71      0.77      0.74       127\n",
      "\n",
      "    accuracy                           0.72       414\n",
      "   macro avg       0.73      0.72      0.72       414\n",
      "weighted avg       0.73      0.72      0.72       414\n",
      "\n"
     ]
    }
   ],
   "source": [
    "print(confusion_matrix(y_test, nb_pred))\n",
    "print(\"\\n\")\n",
    "print(classification_report(y_test, nb_pred))"
   ]
  },
  {
   "cell_type": "code",
   "execution_count": 229,
   "id": "ead014c2",
   "metadata": {},
   "outputs": [
    {
     "data": {
      "text/plain": [
       "<sklearn.metrics._plot.confusion_matrix.ConfusionMatrixDisplay at 0x2dd7eefdf70>"
      ]
     },
     "execution_count": 229,
     "metadata": {},
     "output_type": "execute_result"
    },
    {
     "data": {
      "image/png": "[encoded data removed]",
      "text/plain": [
       "<Figure size 640x480 with 2 Axes>"
      ]
     },
     "metadata": {},
     "output_type": "display_data"
    }
   ],
   "source": [
    "style.use('classic')\n",
    "cm = confusion_matrix(y_test, nb_pred, labels=nb.classes_)\n",
    "disp = ConfusionMatrixDisplay(confusion_matrix = cm, display_labels=nb.classes_)\n",
    "disp.plot()"
   ]
  },
  {
   "cell_type": "markdown",
   "id": "b4d21e20",
   "metadata": {},
   "source": [
    "# SVM Model"
   ]
  },
  {
   "cell_type": "code",
   "execution_count": 230,
   "id": "71ce17d6",
   "metadata": {},
   "outputs": [],
   "source": [
    "from sklearn.svm import LinearSVC"
   ]
  },
  {
   "cell_type": "code",
   "execution_count": 231,
   "id": "e76c485f",
   "metadata": {},
   "outputs": [
    {
     "data": {
      "text/html": [
       "<style>#sk-container-id-7 {color: black;background-color: white;}#sk-container-id-7 pre{padding: 0;}#sk-container-id-7 div.sk-toggleable {background-color: white;}#sk-container-id-7 label.sk-toggleable__label {cursor: pointer;display: block;width: 100%;margin-bottom: 0;padding: 0.3em;box-sizing: border-box;text-align: center;}#sk-container-id-7 label.sk-toggleable__label-arrow:before {content: \"▸\";float: left;margin-right: 0.25em;color: #696969;}#sk-container-id-7 label.sk-toggleable__label-arrow:hover:before {color: black;}#sk-container-id-7 div.sk-estimator:hover label.sk-toggleable__label-arrow:before {color: black;}#sk-container-id-7 div.sk-toggleable__content {max-height: 0;max-width: 0;overflow: hidden;text-align: left;background-color: #f0f8ff;}#sk-container-id-7 div.sk-toggleable__content pre {margin: 0.2em;color: black;border-radius: 0.25em;background-color: #f0f8ff;}#sk-container-id-7 input.sk-toggleable__control:checked~div.sk-toggleable__content {max-height: 200px;max-width: 100%;overflow: auto;}#sk-container-id-7 input.sk-toggleable__control:checked~label.sk-toggleable__label-arrow:before {content: \"▾\";}#sk-container-id-7 div.sk-estimator input.sk-toggleable__control:checked~label.sk-toggleable__label {background-color: #d4ebff;}#sk-container-id-7 div.sk-label input.sk-toggleable__control:checked~label.sk-toggleable__label {background-color: #d4ebff;}#sk-container-id-7 input.sk-hidden--visually {border: 0;clip: rect(1px 1px 1px 1px);clip: rect(1px, 1px, 1px, 1px);height: 1px;margin: -1px;overflow: hidden;padding: 0;position: absolute;width: 1px;}#sk-container-id-7 div.sk-estimator {font-family: monospace;background-color: #f0f8ff;border: 1px dotted black;border-radius: 0.25em;box-sizing: border-box;margin-bottom: 0.5em;}#sk-container-id-7 div.sk-estimator:hover {background-color: #d4ebff;}#sk-container-id-7 div.sk-parallel-item::after {content: \"\";width: 100%;border-bottom: 1px solid gray;flex-grow: 1;}#sk-container-id-7 div.sk-label:hover label.sk-toggleable__label {background-color: #d4ebff;}#sk-container-id-7 div.sk-serial::before {content: \"\";position: absolute;border-left: 1px solid gray;box-sizing: border-box;top: 0;bottom: 0;left: 50%;z-index: 0;}#sk-container-id-7 div.sk-serial {display: flex;flex-direction: column;align-items: center;background-color: white;padding-right: 0.2em;padding-left: 0.2em;position: relative;}#sk-container-id-7 div.sk-item {position: relative;z-index: 1;}#sk-container-id-7 div.sk-parallel {display: flex;align-items: stretch;justify-content: center;background-color: white;position: relative;}#sk-container-id-7 div.sk-item::before, #sk-container-id-7 div.sk-parallel-item::before {content: \"\";position: absolute;border-left: 1px solid gray;box-sizing: border-box;top: 0;bottom: 0;left: 50%;z-index: -1;}#sk-container-id-7 div.sk-parallel-item {display: flex;flex-direction: column;z-index: 1;position: relative;background-color: white;}#sk-container-id-7 div.sk-parallel-item:first-child::after {align-self: flex-end;width: 50%;}#sk-container-id-7 div.sk-parallel-item:last-child::after {align-self: flex-start;width: 50%;}#sk-container-id-7 div.sk-parallel-item:only-child::after {width: 0;}#sk-container-id-7 div.sk-dashed-wrapped {border: 1px dashed gray;margin: 0 0.4em 0.5em 0.4em;box-sizing: border-box;padding-bottom: 0.4em;background-color: white;}#sk-container-id-7 div.sk-label label {font-family: monospace;font-weight: bold;display: inline-block;line-height: 1.2em;}#sk-container-id-7 div.sk-label-container {text-align: center;}#sk-container-id-7 div.sk-container {/* jupyter's `normalize.less` sets `[hidden] { display: none; }` but bootstrap.min.css set `[hidden] { display: none !important; }` so we also need the `!important` here to be able to override the default hidden behavior on the sphinx rendered scikit-learn.org. See: https://github.com/scikit-learn/scikit-learn/issues/21755 */display: inline-block !important;position: relative;}#sk-container-id-7 div.sk-text-repr-fallback {display: none;}</style><div id=\"sk-container-id-7\" class=\"sk-top-container\"><div class=\"sk-text-repr-fallback\"><pre>LinearSVC()</pre><b>In a Jupyter environment, please rerun this cell to show the HTML representation or trust the notebook. <br />On GitHub, the HTML representation is unable to render, please try loading this page with nbviewer.org.</b></div><div class=\"sk-container\" hidden><div class=\"sk-item\"><div class=\"sk-estimator sk-toggleable\"><input class=\"sk-toggleable__control sk-hidden--visually\" id=\"sk-estimator-id-7\" type=\"checkbox\" checked><label for=\"sk-estimator-id-7\" class=\"sk-toggleable__label sk-toggleable__label-arrow\">LinearSVC</label><div class=\"sk-toggleable__content\"><pre>LinearSVC()</pre></div></div></div></div></div>"
      ],
      "text/plain": [
       "LinearSVC()"
      ]
     },
     "execution_count": 231,
     "metadata": {},
     "output_type": "execute_result"
    }
   ],
   "source": [
    "SVCmodel = LinearSVC()\n",
    "SVCmodel.fit(x_train, y_train)"
   ]
  },
  {
   "cell_type": "code",
   "execution_count": 232,
   "id": "309c438b",
   "metadata": {},
   "outputs": [
    {
     "name": "stdout",
     "output_type": "stream",
     "text": [
      "test accuracy: 84.06%\n"
     ]
    }
   ],
   "source": [
    "svc_pred = SVCmodel.predict(x_test)\n",
    "svc_acc = accuracy_score(svc_pred, y_test)\n",
    "print(\"test accuracy: {:.2f}%\".format(svc_acc*100))"
   ]
  },
  {
   "cell_type": "code",
   "execution_count": 233,
   "id": "d7bae073",
   "metadata": {},
   "outputs": [],
   "source": [
    "svm_correct = (y_test == SVCmodel.predict(x_test)).sum()"
   ]
  },
  {
   "cell_type": "code",
   "execution_count": 234,
   "id": "1a4e2fe6",
   "metadata": {},
   "outputs": [
    {
     "name": "stdout",
     "output_type": "stream",
     "text": [
      "348 documents classified correctly\n"
     ]
    }
   ],
   "source": [
    "print(f'{svm_correct} documents classified correctly')"
   ]
  },
  {
   "cell_type": "code",
   "execution_count": 235,
   "id": "b4f303c4",
   "metadata": {},
   "outputs": [],
   "source": [
    "svm_incorrect = y_test.size - svm_correct"
   ]
  },
  {
   "cell_type": "code",
   "execution_count": 236,
   "id": "78d624f5",
   "metadata": {},
   "outputs": [
    {
     "name": "stdout",
     "output_type": "stream",
     "text": [
      "66 documents classified incorrectly\n"
     ]
    }
   ],
   "source": [
    "print(f'{svm_incorrect} documents classified incorrectly')"
   ]
  },
  {
   "cell_type": "code",
   "execution_count": 237,
   "id": "55c69f6b",
   "metadata": {},
   "outputs": [
    {
     "name": "stdout",
     "output_type": "stream",
     "text": [
      "[[111  25   9]\n",
      " [  2 138   2]\n",
      " [  5  23  99]]\n",
      "\n",
      "\n",
      "              precision    recall  f1-score   support\n",
      "\n",
      "    negative       0.94      0.77      0.84       145\n",
      "     neutral       0.74      0.97      0.84       142\n",
      "    positive       0.90      0.78      0.84       127\n",
      "\n",
      "    accuracy                           0.84       414\n",
      "   macro avg       0.86      0.84      0.84       414\n",
      "weighted avg       0.86      0.84      0.84       414\n",
      "\n"
     ]
    }
   ],
   "source": [
    "print(confusion_matrix(y_test, svc_pred))\n",
    "print(\"\\n\")\n",
    "print(classification_report(y_test, svc_pred))"
   ]
  },
  {
   "cell_type": "code",
   "execution_count": 238,
   "id": "c861de7c",
   "metadata": {},
   "outputs": [
    {
     "data": {
      "text/plain": [
       "<sklearn.metrics._plot.confusion_matrix.ConfusionMatrixDisplay at 0x2dd7ed06820>"
      ]
     },
     "execution_count": 238,
     "metadata": {},
     "output_type": "execute_result"
    },
    {
     "data": {
      "image/png": "[encoded data removed]",
      "text/plain": [
       "<Figure size 640x480 with 2 Axes>"
      ]
     },
     "metadata": {},
     "output_type": "display_data"
    }
   ],
   "source": [
    "style.use('classic')\n",
    "cm = confusion_matrix(y_test, svc_pred, labels=SVCmodel.classes_)\n",
    "disp = ConfusionMatrixDisplay(confusion_matrix = cm, display_labels=SVCmodel.classes_)\n",
    "disp.plot()"
   ]
  },
  {
   "cell_type": "markdown",
   "id": "aa6304c6",
   "metadata": {},
   "source": [
    "# END"
   ]
  },
  {
   "cell_type": "code",
   "execution_count": null,
   "id": "caa71fb3",
   "metadata": {},
   "outputs": [],
   "source": []
  }
 ],
 "metadata": {
  "kernelspec": {
   "display_name": "Python 3 (ipykernel)",
   "language": "python",
   "name": "python3"
  },
  "language_info": {
   "codemirror_mode": {
    "name": "ipython",
    "version": 3
   },
   "file_extension": ".py",
   "mimetype": "text/x-python",
   "name": "python",
   "nbconvert_exporter": "python",
   "pygments_lexer": "ipython3",
   "version": "3.9.7"
  }
 },
 "nbformat": 4,
 "nbformat_minor": 5
}
